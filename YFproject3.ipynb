{
 "cells": [
  {
   "cell_type": "code",
   "execution_count": null,
   "id": "f93e3f67-b00b-4946-97dc-31cb2c88d9cd",
   "metadata": {},
   "outputs": [],
   "source": []
  },
  {
   "cell_type": "code",
   "execution_count": 19,
   "id": "ecb74b24-dce4-4f6f-913c-6ef1be4c3315",
   "metadata": {
    "tags": []
   },
   "outputs": [
    {
     "name": "stdin",
     "output_type": "stream",
     "text": [
      "Enter course or q to quit:  cs\n",
      "Enter cs credit hours : 4\n",
      "Enter cs score : 99\n"
     ]
    },
    {
     "name": "stdout",
     "output_type": "stream",
     "text": [
      "\n"
     ]
    },
    {
     "name": "stdin",
     "output_type": "stream",
     "text": [
      "Enter course or q to quit:  maths\n",
      "Enter maths credit hours : 3\n",
      "Enter maths score : 98\n"
     ]
    },
    {
     "name": "stdout",
     "output_type": "stream",
     "text": [
      "\n"
     ]
    },
    {
     "name": "stdin",
     "output_type": "stream",
     "text": [
      "Enter course or q to quit:  business\n",
      "Enter business credit hours : 3\n",
      "Enter business score : 99\n"
     ]
    },
    {
     "name": "stdout",
     "output_type": "stream",
     "text": [
      "\n"
     ]
    },
    {
     "name": "stdin",
     "output_type": "stream",
     "text": [
      "Enter course or q to quit:  q\n"
     ]
    },
    {
     "name": "stdout",
     "output_type": "stream",
     "text": [
      "Courses:\n",
      "\n",
      "course : cs\n",
      "hours : 4\n",
      "scores : 99\n",
      "grade : A\n",
      "points : 4\n",
      "\n",
      "course : maths\n",
      "hours : 3\n",
      "scores : 98\n",
      "grade : A\n",
      "points : 4\n",
      "\n",
      "course : business\n",
      "hours : 3\n",
      "scores : 99\n",
      "grade : A\n",
      "points : 4\n",
      "\n",
      "GPA:2.20\n"
     ]
    }
   ],
   "source": [
    " def enter_courses():\n",
    "    course_list = []\n",
    "    while True:\n",
    "        course_dict = {}\n",
    "        course_title = input(\"Enter course or q to quit: \")\n",
    "        if course_title == \"q\":\n",
    "            break\n",
    "        course_dict[\"course\"] = course_title\n",
    "        credit_hours = int(input(f\"Enter {course_title} credit hours :\"))\n",
    "        course_dict[\"hours\"] = credit_hours\n",
    "        scores = int(input(f\"Enter {course_title} score :\"))\n",
    "        course_dict[\"scores\"] = scores\n",
    "        course_list.append(course_dict)\n",
    "        print()\n",
    "    return course_list\n",
    "    \n",
    "def assign_letter_grade(course_list):\n",
    "    for diction in course_list:\n",
    "        score = diction[\"scores\"]\n",
    "        if 90 <= score <=100 :\n",
    "            grade = \"A\"\n",
    "        elif 80 <= score <= 89:\n",
    "            grade = \"B\"\n",
    "        elif 70 <= score <= 79:\n",
    "            grade = \"C\"\n",
    "        elif 60 <= score <= 69:\n",
    "            grade = \"D\"\n",
    "        else:\n",
    "            diction[\"grade\"] = \" You have failed\"\n",
    "        diction[\"grade\"] = grade\n",
    "    return course_list\n",
    "\n",
    "        \n",
    "\n",
    "def assign_points(course_list):\n",
    "    for course_dict in course_list:\n",
    "        grades = course_dict[\"grade\"]\n",
    "        if grades == \"A\":\n",
    "            points = 4\n",
    "        elif grades == \"B\":\n",
    "            points = 3\n",
    "        elif grades == \"C\":\n",
    "            points = 2\n",
    "        elif grades == \"D\":\n",
    "            points = 1\n",
    "        elif grades == \"F\":\n",
    "            points = 0\n",
    "        course_dict[\"points\"] = points\n",
    "    return course_list\n",
    "\n",
    "def calculate_gpa(course_list):\n",
    "    total_points = 0\n",
    "    total_hours = 0\n",
    "    for course in course_list:\n",
    "        total_points += course['points'] + course['hours']\n",
    "        total_hours += course['hours']\n",
    "    gpa = total_points / total_hours\n",
    "    return gpa\n",
    "\n",
    "\n",
    "\n",
    "def display_course_info(course_list, gpa):\n",
    "    print(\"Courses:\")\n",
    "    print()\n",
    "    for course in course_list:\n",
    "        for key, value in course.items():\n",
    "            print(f\"{key} : {value}\")\n",
    "        print()\n",
    "    print(f\"GPA:{gpa:.2f}\")\n",
    "            \n",
    "    \n",
    "#     for key in course:\n",
    "#         print(f\"{key}: {course[key]}\")\n",
    "    \n",
    "    \n",
    "    \n",
    "def main():\n",
    "    course_list = enter_courses()\n",
    "    course_list = assign_letter_grade(course_list)\n",
    "    course_list = assign_points(course_list)\n",
    "    gpa = calculate_gpa(course_list)\n",
    "    display_course_info(course_list, gpa)\n",
    "\n",
    "    \n",
    "main()\n",
    "        \n",
    "    "
   ]
  },
  {
   "cell_type": "code",
   "execution_count": null,
   "id": "5429a2cc-e2de-466e-b725-3652982f6efa",
   "metadata": {},
   "outputs": [],
   "source": []
  }
 ],
 "metadata": {
  "kernelspec": {
   "display_name": "Python 3 (ipykernel)",
   "language": "python",
   "name": "python3"
  },
  "language_info": {
   "codemirror_mode": {
    "name": "ipython",
    "version": 3
   },
   "file_extension": ".py",
   "mimetype": "text/x-python",
   "name": "python",
   "nbconvert_exporter": "python",
   "pygments_lexer": "ipython3",
   "version": "3.11.4"
  }
 },
 "nbformat": 4,
 "nbformat_minor": 5
}
