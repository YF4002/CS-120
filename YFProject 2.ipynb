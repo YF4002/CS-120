{
 "cells": [
  {
   "cell_type": "code",
   "execution_count": 11,
   "id": "77fc2243-45e3-4c4c-a51b-736510f4b9db",
   "metadata": {
    "tags": []
   },
   "outputs": [
    {
     "name": "stdin",
     "output_type": "stream",
     "text": [
      "Enter course or q to quit:  cs\n",
      "Enter cs credit hours : 4\n",
      "Enter cs score : 99\n"
     ]
    },
    {
     "name": "stdout",
     "output_type": "stream",
     "text": [
      "\n"
     ]
    },
    {
     "name": "stdin",
     "output_type": "stream",
     "text": [
      "Enter course or q to quit:  maths\n",
      "Enter maths credit hours : 3\n",
      "Enter maths score : 98\n"
     ]
    },
    {
     "name": "stdout",
     "output_type": "stream",
     "text": [
      "\n"
     ]
    },
    {
     "name": "stdin",
     "output_type": "stream",
     "text": [
      "Enter course or q to quit:  business\n",
      "Enter business credit hours : 2\n",
      "Enter business score : 96\n"
     ]
    },
    {
     "name": "stdout",
     "output_type": "stream",
     "text": [
      "\n"
     ]
    },
    {
     "name": "stdin",
     "output_type": "stream",
     "text": [
      "Enter course or q to quit:  q\n"
     ]
    },
    {
     "name": "stdout",
     "output_type": "stream",
     "text": [
      "Courses:\n",
      "\n",
      "course : cs\n",
      "hours : 4\n",
      "scores : 99\n",
      "grade : A\n",
      "\n",
      "course : maths\n",
      "hours : 3\n",
      "scores : 98\n",
      "grade : A\n",
      "\n",
      "course : business\n",
      "hours : 2\n",
      "scores : 96\n",
      "grade : A\n",
      "\n"
     ]
    }
   ],
   "source": [
    " def enter_courses():\n",
    "    courses = []\n",
    "    while True:\n",
    "        course_dict = {}\n",
    "        course_title = input(\"Enter course or q to quit: \")\n",
    "        if course_title == \"q\":\n",
    "            break\n",
    "        course_dict[\"course\"] = course_title\n",
    "        credit_hours = int(input(f\"Enter {course_title} credit hours :\"))\n",
    "        course_dict[\"hours\"] = credit_hours\n",
    "        scores = int(input(f\"Enter {course_title} score :\"))\n",
    "        course_dict[\"scores\"] = scores\n",
    "        courses.append(course_dict)\n",
    "        print()\n",
    "    return courses\n",
    "    \n",
    "def assign_letter_grade(courses):\n",
    "    for diction in courses:\n",
    "        score = diction[\"scores\"]\n",
    "        if 90 <= score <=100 :\n",
    "            grade = \"A\"\n",
    "        elif 80 <= score <= 89:\n",
    "            grade = \"B\"\n",
    "        elif 70 <= score <= 79:\n",
    "            grade = \"C\"\n",
    "        elif 60 <= score <= 69:\n",
    "            grade = \"D\"\n",
    "        else:\n",
    "            diction[\"grade\"] = \" You have failed\"\n",
    "        diction[\"grade\"] = grade\n",
    "    return courses\n",
    "    \n",
    "def display_course_info(courses):\n",
    "    print(\"Courses:\")\n",
    "    print()\n",
    "    for course in courses:\n",
    "        for key, value in course.items():\n",
    "            print(f\"{key} : {value}\")\n",
    "        print()\n",
    "    \n",
    "def main():\n",
    "    courses = enter_courses()\n",
    "    assign_letter_grade(courses)\n",
    "    display_course_info(courses)\n",
    "\n",
    "    \n",
    "main()\n",
    "        \n",
    "    \n",
    "    \n",
    "        \n",
    "        \n",
    "            \n",
    "        \n",
    "    \n",
    "\n",
    "        \n",
    "        \n",
    "        \n",
    "        \n",
    "        \n",
    "        \n",
    "    "
   ]
  },
  {
   "cell_type": "code",
   "execution_count": null,
   "id": "e223b678-7ad8-40e4-a2a0-323e2e02af2f",
   "metadata": {},
   "outputs": [],
   "source": [
    "courses = enter_courses()\n",
    "\n",
    "assign_letter_grade(courses)\n",
    "\n",
    "# add this to the main function"
   ]
  }
 ],
 "metadata": {
  "kernelspec": {
   "display_name": "Python 3 (ipykernel)",
   "language": "python",
   "name": "python3"
  },
  "language_info": {
   "codemirror_mode": {
    "name": "ipython",
    "version": 3
   },
   "file_extension": ".py",
   "mimetype": "text/x-python",
   "name": "python",
   "nbconvert_exporter": "python",
   "pygments_lexer": "ipython3",
   "version": "3.11.4"
  }
 },
 "nbformat": 4,
 "nbformat_minor": 5
}
